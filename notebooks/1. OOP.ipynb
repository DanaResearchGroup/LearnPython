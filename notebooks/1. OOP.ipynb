{
 "cells": [
  {
   "cell_type": "markdown",
   "id": "70e2feec",
   "metadata": {},
   "source": [
    "# 1. Object Oriented Programming\n",
    "\n",
    "Object Oriented Programming (OOP) is a style of programming that promotes the creation of objects to contain data and methods. Codes developed using OOP will contain a set of objects that interact with one another. Each object will consist of three main types of information:\n",
    "\n",
    "    Constructor - A way to construct an instance of the object.\n",
    "                  The process of constructing an object using its Constructor\n",
    "                  is called \"creating an instance of an object\".\n",
    "\n",
    "    Data - Each object instance may contain data relevant to it.\n",
    "           These are often stored as variables within the object instance.\n",
    "           Data is often assigned values through the Constructor,\n",
    "           and each instance of an object may have different values assigned to its data\n",
    "           upon initiallization.\n",
    "\n",
    "    Methods - Functions defined within a class are usually called \"methods\" rather than \"functions\".\n",
    "              Similar to a function a method has a name, a set of zero or more parameters,\n",
    "              and optionally a return value.\n",
    "              Methods usually operate on the data within an object,\n",
    "              sometimes utilizing information provided from outside the object.\n",
    "\n",
    "Four main concepts of OOP are:\n",
    "\n",
    "    Encapsulation - Enclosing data and methods within an object.\n",
    "\n",
    "    Abstraction - Securing variables and implementation details within objects.\n",
    "\n",
    "    Inheritance - Extending an object to create a new variation of the object.\n",
    "\n",
    "    Polymorphism - Using a similar object in place of an expected object.\n"
   ]
  },
  {
   "cell_type": "code",
   "execution_count": null,
   "id": "d4055858",
   "metadata": {},
   "outputs": [],
   "source": []
  },
  {
   "cell_type": "markdown",
   "id": "b7e79ee2",
   "metadata": {},
   "source": [
    "## 1.1. Encapsulation\n",
    "\n",
    "Encapsulation is the concept of enclosing related data and methods acting on those data within a single object (also called a \"class\").\n",
    "\n",
    "A class will consist of a set of data (variables) and a set of methods that interact with the data.\n",
    "\n",
    "Benefits:\n",
    "\n",
    "    Aids in code readability\n",
    "\n",
    "    Methods have full access to their data so that you don’t have to keep passing data and parameters\n",
    "    between methods. Also, in this way you avoid the use of global variables,\n",
    "    which while useful, can lead to some issues such as name collision."
   ]
  },
  {
   "cell_type": "markdown",
   "id": "c44c05ac",
   "metadata": {},
   "source": [
    "Classes are used in code to provide a general definition of an object.\n",
    "\n",
    "Let's try to represent a molecule without using an object.\n",
    "\n",
    "First we decide on a few simple peices of data to make up a molecule:"
   ]
  },
  {
   "cell_type": "code",
   "execution_count": null,
   "id": "dc3399a3",
   "metadata": {},
   "outputs": [],
   "source": [
    "name = \"water molecule\"\n",
    "charge = 0.0\n",
    "symbols = [\"O\", \"H\", \"H\"]\n",
    "coordinates = [[0, 0, 0], [0, 1, 0], [0, 0, 1]]"
   ]
  },
  {
   "cell_type": "markdown",
   "id": "e14fc8ec",
   "metadata": {},
   "source": [
    "Note the first issue, we now have a set of four variables that, if seen separately, would not have any connection to one another. As the developers, we know that the symbols and coordinates are tied to the same molecule, but to any observer they seem as unrelated variables.\n",
    "\n",
    "We can try to solve this through better variable names:"
   ]
  },
  {
   "cell_type": "code",
   "execution_count": null,
   "id": "2cf7a00f",
   "metadata": {},
   "outputs": [],
   "source": [
    "molecule_1_name = \"water molecule\"\n",
    "molecule_1_charge = 0.0\n",
    "molecule_1_symbols = [\"O\", \"H\", \"H\"]\n",
    "molecule_1_coords = [[0, 0, 0], [0, 1, 0], [0, 0, 1]]"
   ]
  },
  {
   "cell_type": "markdown",
   "id": "547bb10c",
   "metadata": {},
   "source": [
    "Now at a glance they are all tied to a single molecule.\n",
    "\n",
    "We can add a little utility to our molecule by printing it out."
   ]
  },
  {
   "cell_type": "code",
   "execution_count": null,
   "id": "30cfbfac",
   "metadata": {},
   "outputs": [],
   "source": [
    "print(f'Name: {molecule_1_name}\\n' \\\n",
    "      f'Charge: {molecule_1_charge}\\n' \\\n",
    "      f'Symbols: {molecule_1_symbols}\\n' \\\n",
    "      f'Coordinates: {molecule_1_coords}')"
   ]
  },
  {
   "cell_type": "markdown",
   "id": "68cfa557",
   "metadata": {},
   "source": [
    "Under the current design, we need to repeat all of our previous code to create each additional molecule.\n",
    "\n",
    "For a single instance, this may not seem terrible, but what if we need to make **thousands** of molecules?\n",
    "\n",
    "Encapsulation is designed to solve this problem. We can create something called a _class_ to hold our molecule information.\n",
    "\n",
    "Classes provide a way to bundle data and other functionality together."
   ]
  },
  {
   "cell_type": "markdown",
   "id": "35e2a211",
   "metadata": {},
   "source": [
    "### Class Syntax\n",
    "\n",
    "Python allows for the creation of classes. Let's define a Molecule class (a.k.a. \"Object\"):"
   ]
  },
  {
   "cell_type": "code",
   "execution_count": null,
   "id": "af757f5c",
   "metadata": {},
   "outputs": [],
   "source": [
    "class Molecule:\n",
    "    def __init__(self, name, charge, symbols, coordinates):  # these are called \"arguments\"\n",
    "        self.name = name\n",
    "        self.charge = charge\n",
    "        self.symbols = symbols\n",
    "        self.coordinates = coordinates  # these are called \"attributes\". We could have used different names."
   ]
  },
  {
   "cell_type": "markdown",
   "id": "f183335f",
   "metadata": {},
   "source": [
    "_Molecule_ is now a class that contains all the desired pieces of data we are currently associating with molecules.\n",
    "\n",
    "Let's look at what each line does.\n",
    "\n",
    "The first line of this code\n",
    "\n",
    "    class Molecule:\n",
    "\n",
    "is defining the name of the class as Molecule.\n",
    "\n",
    "We then have a **method** called **a constructor** and it is called whenever you are instantiating an object of the class.\n",
    "\n",
    "    def __init__(self, name, charge, symbols, coordinates):\n",
    "\n",
    "The Constructor has four arguments, one for each piece of data that makes up a molecule: *name*, *charge*, *symbols*, and *coordinates*.\n",
    "\n",
    "The 1st parameter, _self_, refers to the instance of the class. Every method of a class must have a reference to the instance as the first variable. This variable can be given any name, but by convention is usually called _self_.\n",
    "\n",
    "For example, to create our water molecule we will create an _instance_ of the class:"
   ]
  },
  {
   "cell_type": "code",
   "execution_count": null,
   "id": "78fc9110",
   "metadata": {},
   "outputs": [],
   "source": [
    "mol_1 = Molecule(name='water molecule',\n",
    "                 charge=0.0,\n",
    "                 symbols=[\"O\", \"H\", \"H\"],\n",
    "                 coordinates=[[0, 0, 0], [0, 1, 0], [0, 0, 1]],\n",
    "                )"
   ]
  },
  {
   "cell_type": "markdown",
   "id": "a59c15ef",
   "metadata": {},
   "source": [
    "Try printing the object instance, and try printing the attributes:"
   ]
  },
  {
   "cell_type": "code",
   "execution_count": null,
   "id": "f8bd3d8b",
   "metadata": {},
   "outputs": [],
   "source": [
    "print(mol_1)"
   ]
  },
  {
   "cell_type": "code",
   "execution_count": null,
   "id": "f3452015",
   "metadata": {},
   "outputs": [],
   "source": [
    "print(mol_1.name)\n",
    "print(mol_1.charge)\n",
    "print(mol_1.symbols)\n",
    "print(mol_1.coordinates)"
   ]
  },
  {
   "cell_type": "markdown",
   "id": "b55678d6",
   "metadata": {},
   "source": [
    "Exercise: Try creating another object instance called _mol_2_, representing a different molecule:"
   ]
  },
  {
   "cell_type": "code",
   "execution_count": null,
   "id": "9750534d",
   "metadata": {},
   "outputs": [],
   "source": [
    "mol_2 = "
   ]
  },
  {
   "cell_type": "markdown",
   "id": "d0cf6534",
   "metadata": {},
   "source": [
    "Let's create a nicer representation for printing by writing an `__str__` method for the class.\n",
    "\n",
    "In Python, there are special methods associated with classes which you can use for customization.\n",
    "These are also called **magic methods**. They exist inside a class, and begin and end with two underscores (`__`). The `__init__` we have already used is a magic method used to set initial properties of a class instance. The `__str__` method is called by built-in Python functions *print()* and *format()*.\n",
    "The return value of this function (which we'll write now) must be a string.\n",
    "\n",
    "The `__str__` method is simply a method to generate the **string representation** of our Molecule object to be used in printing. It will be similar to how we printed the molecule above before defining a class, but it will now work for each instance of a Molecule without any modification.\n",
    "\n",
    "Let's add this to our class definition:"
   ]
  },
  {
   "cell_type": "code",
   "execution_count": null,
   "id": "67ea26ed",
   "metadata": {},
   "outputs": [],
   "source": [
    "class Molecule:\n",
    "    def __init__(self, name, charge, symbols, coordinates):\n",
    "        self.name = name\n",
    "        self.charge = charge\n",
    "        self.symbols = symbols\n",
    "        self.coordinates = coordinates\n",
    "\n",
    "    def __str__(self):\n",
    "        return f'Name: {self.name}\\n' \\\n",
    "               f'Charge: {self.charge}\\n' \\\n",
    "               f'Symbols: {self.symbols}\\n' \\\n",
    "               f'Coordinates: {self.coordinates}'"
   ]
  },
  {
   "cell_type": "code",
   "execution_count": null,
   "id": "9d3a7f80",
   "metadata": {},
   "outputs": [],
   "source": [
    "mol_1 = Molecule(name='water molecule',\n",
    "                 charge=0.0,\n",
    "                 symbols=[\"O\", \"H\", \"H\"],\n",
    "                 coordinates=[[0, 0, 0], [0, 1, 0], [0, 0, 1]],\n",
    "                )\n",
    "\n",
    "mol_2 = Molecule(name=\"He\",\n",
    "                 charge=0.0,\n",
    "                 symbols=[\"He\"],\n",
    "                 coordinates=[[0, 0, 0]],\n",
    "                )"
   ]
  },
  {
   "cell_type": "markdown",
   "id": "7cbd7160",
   "metadata": {},
   "source": [
    "Now, pring these object instances:"
   ]
  },
  {
   "cell_type": "code",
   "execution_count": null,
   "id": "4dc2fe50",
   "metadata": {},
   "outputs": [],
   "source": [
    "print(mol_1)"
   ]
  },
  {
   "cell_type": "code",
   "execution_count": null,
   "id": "979bc655",
   "metadata": {},
   "outputs": [],
   "source": [
    "print(mol_2)"
   ]
  },
  {
   "cell_type": "markdown",
   "id": "35c6a08b",
   "metadata": {},
   "source": [
    "**Creating a new molecule object now requires only one line of code, with only one new variable name created and assigned.**\n",
    "\n",
    "This removes much of the redundancy of creating multiple variables and removes many possible points where a syntax error could occur.\n",
    "\n",
    "In summary, utilizing encapsulation to wrap up the data and methods that act on them has provided a number of benefits. We have reduced developer work by removing redundancy. **We have reduced the likelihood of errors** appearing in the syntax written by reducing the number of possible locations for human error."
   ]
  },
  {
   "cell_type": "code",
   "execution_count": null,
   "id": "6d3c0d1a",
   "metadata": {},
   "outputs": [],
   "source": []
  },
  {
   "cell_type": "markdown",
   "id": "4fb6d629",
   "metadata": {},
   "source": [
    "## 1.2. Abstraction\n",
    "\n",
    "Abstraction is the concept of **hiding implementation details from the user**, allowing them to know how to use the code/class without knowing how it actually works or any implementation details.\n",
    "\n",
    "For example, when you use a Coffee machine, you interact with its interface, but you don't actually know how it is preparing the coffee inside. Another example is that when a Web browser connects to the Internet, it interacts with the Operating system to get the connection, but it doesn't know if you are connecting using a dial-up, dsl, cable, etc.\n",
    "\n",
    "There are many benefits of using abstraction:\n",
    "\n",
    "    Can have multiple implementations\n",
    "    \n",
    "    Can build complex software by splitting functionality internally into steps, and only exposing one method to the user\n",
    "    \n",
    "    Change implementation later without affecting the user interface\n",
    "    \n",
    "    Easier code collaboration since developers don't need to know the details of every class, only how to use it\n",
    "    \n",
    "    One of the main concepts that makes the code flexible and maintainable"
   ]
  },
  {
   "cell_type": "markdown",
   "id": "e8100e2a",
   "metadata": {},
   "source": [
    "We would like to provide users with a way to determine the number of atoms in the molecule. There are a few ways to accomplish this behavior.\n",
    "\n",
    "First, we could add a `num_atoms` parameter to our `__init__` method. "
   ]
  },
  {
   "cell_type": "code",
   "execution_count": null,
   "id": "0d6afee4",
   "metadata": {},
   "outputs": [],
   "source": [
    "class Molecule:\n",
    "    def __init__(self, name, charge, symbols, coordinates):\n",
    "        self.name = name\n",
    "        self.charge = charge\n",
    "        self.symbols = symbols\n",
    "        self.coordinates = coordinates\n",
    "        self.num_atoms = len(symbols)\n",
    "\n",
    "    def __str__(self):\n",
    "        return f'Name: {self.name}\\n' \\\n",
    "               f'Charge: {self.charge}\\n' \\\n",
    "               f'Symbols: {self.symbols}\\n' \\\n",
    "               f'Coordinates: {self.coordinates}\\n' \\\n",
    "               f'Number of atoms: {self.num_atoms}'\n",
    "\n",
    "\n",
    "mol_1 = Molecule(name='water molecule',\n",
    "                 charge=0.0,\n",
    "                 symbols=[\"O\", \"H\", \"H\"],\n",
    "                 coordinates=[[0, 0, 0], [0, 1, 0], [0, 0, 1]],\n",
    "                )"
   ]
  },
  {
   "cell_type": "code",
   "execution_count": null,
   "id": "f2055682",
   "metadata": {},
   "outputs": [],
   "source": [
    "print(mol_1)"
   ]
  },
  {
   "cell_type": "markdown",
   "id": "99c1178b",
   "metadata": {},
   "source": [
    "So far so good, but what if the list of symbols needs to change? For the sake of the example, we will update the list of symbols to remove a hydrogen:"
   ]
  },
  {
   "cell_type": "code",
   "execution_count": null,
   "id": "67da2b00",
   "metadata": {},
   "outputs": [],
   "source": [
    "mol_1.symbols = [\"O\", \"H\"]\n",
    "mol_1.coordinates = [[0, 0, 0], [0, 1, 0]]\n",
    "print(mol_1)"
   ]
  },
  {
   "cell_type": "markdown",
   "id": "15d5452e",
   "metadata": {},
   "source": [
    "We can see that, though the list of symbols has properly updated, the number of atoms did not change.\n",
    "\n",
    "(`__init__` is called only when generating the object)"
   ]
  },
  {
   "cell_type": "markdown",
   "id": "6f6ef0e0",
   "metadata": {},
   "source": [
    "### Property and Setter\n",
    "\n",
    "We can utilize abstraction to cover this issue. Python has two decorators, modifiers that can be applied to methods, that will abstract the behavior of the `num_atoms` attribute: `property` and `setter`.\n",
    "\n",
    "They allow attributes to be used in a pythonic way, while allowing more control over their values.\n",
    "\n",
    "We want to update the `num_atoms` variable with the latest data whenever the value of `symbols` is modified. Alternatively, we could havew also do that whenever `num_atoms` is being called.\n",
    "\n",
    "Let's create the `property` and `setter` methods for the `symbols` variable:"
   ]
  },
  {
   "cell_type": "code",
   "execution_count": null,
   "id": "e7f15ae3",
   "metadata": {},
   "outputs": [],
   "source": [
    "class Molecule:\n",
    "    def __init__(self, name, charge, symbols, coordinates):\n",
    "        self.name = name\n",
    "        self.charge = charge\n",
    "        self.symbols = symbols  # there's no self.symbols attribute now, it is replaced with a \"property\"\n",
    "        self.coordinates = coordinates\n",
    "\n",
    "    @property\n",
    "    def symbols(self):\n",
    "        return self._symbols\n",
    "        \n",
    "    @symbols.setter\n",
    "    def symbols(self, symbols):\n",
    "        self._symbols = symbols\n",
    "        self.num_atoms = len(self._symbols)\n",
    "\n",
    "    def __str__(self):\n",
    "        return f'Name: {self.name}\\n' \\\n",
    "               f'Charge: {self.charge}\\n' \\\n",
    "               f'Symbols: {self.symbols}\\n' \\\n",
    "               f'Coordinates: {self.coordinates}\\n' \\\n",
    "               f'Number of atoms: {self.num_atoms}'\n",
    "\n",
    "\n",
    "mol_1 = Molecule(name='water molecule',\n",
    "                 charge=0.0,\n",
    "                 symbols=[\"O\", \"H\", \"H\"],\n",
    "                 coordinates=[[0, 0, 0], [0, 1, 0], [0, 0, 1]],\n",
    "                )"
   ]
  },
  {
   "cell_type": "code",
   "execution_count": null,
   "id": "5e2316d5",
   "metadata": {},
   "outputs": [],
   "source": [
    "print(mol_1)"
   ]
  },
  {
   "cell_type": "markdown",
   "id": "6ac52062",
   "metadata": {},
   "source": [
    "Note how the number of atoms is automatically updated when we change the number of symbols:"
   ]
  },
  {
   "cell_type": "code",
   "execution_count": null,
   "id": "650aeb4f",
   "metadata": {},
   "outputs": [],
   "source": [
    "mol_1.symbols = [\"O\", \"H\"]\n",
    "mol_1.coordinates = [[0, 0, 0], [0, 1, 0]]\n",
    "print(mol_1)"
   ]
  },
  {
   "cell_type": "markdown",
   "id": "82de6316",
   "metadata": {},
   "source": [
    "### Private Methods\n",
    "\n",
    "Like variables, it can be useful to have private methods, methods the user should not directly call. Often these can be helper methods which are performing portions of a calculation that are not useful when run outside of the wider calculation. To include private methods in a class, we start the method name with a `_` character. This does not explicitly make the function private, but by convention informs other developers and users that this method should not be called directly.\n",
    "\n",
    "For the sake of showing a simple example, let us assume that updating the value of `num_atoms` is a much more complicated procedure than it is under the current definition of `Molecule`. Since we want to keep the content of the symbols setter method fairly straightforward and easy to understand, we create a helper method to handle the updating of `num_atoms`."
   ]
  },
  {
   "cell_type": "code",
   "execution_count": null,
   "id": "3a9df579",
   "metadata": {},
   "outputs": [],
   "source": [
    "class Molecule:\n",
    "    def __init__(self, name, charge, symbols, coordinates):\n",
    "        self.name = name\n",
    "        self.charge = charge\n",
    "        self.symbols = symbols\n",
    "        self.coordinates = coordinates\n",
    "\n",
    "    @property\n",
    "    def symbols(self):\n",
    "        return self._symbols\n",
    "        \n",
    "    @symbols.setter\n",
    "    def symbols(self, symbols):\n",
    "        self._symbols = symbols\n",
    "        self._update_num_atoms()  # this is also an \"abstraction\"...\n",
    "\n",
    "    def _update_num_atoms(self):  # note the addition of this \"private\" method\n",
    "        self.num_atoms = len(self.symbols)\n",
    "\n",
    "    def __str__(self):\n",
    "        return f'Name: {self.name}\\n' \\\n",
    "               f'Charge: {self.charge}\\n' \\\n",
    "               f'Symbols: {self.symbols}\\n' \\\n",
    "               f'Coordinates: {self.coordinates}\\n' \\\n",
    "               f'Number of atoms: {self.num_atoms}'\n",
    "\n",
    "\n",
    "mol_1 = Molecule(name='water molecule',\n",
    "                 charge=0.0,\n",
    "                 symbols=[\"O\", \"H\", \"H\"],\n",
    "                 coordinates=[[0, 0, 0], [0, 1, 0], [0, 0, 1]],\n",
    "                )"
   ]
  },
  {
   "cell_type": "code",
   "execution_count": null,
   "id": "9435f838",
   "metadata": {},
   "outputs": [],
   "source": [
    "print(mol_1)"
   ]
  },
  {
   "cell_type": "markdown",
   "id": "a4bac916",
   "metadata": {},
   "source": [
    "Now when a user updates the value of `symbols`, python will call the private method `_update_num_atoms()`, which will correctly update the number of atoms stored in the object. In this instance it is not necessary to hide the method `_update_num_atoms()` as no harm will occur if it is directly called, but it works as a useful example of how a method can be hidden."
   ]
  },
  {
   "cell_type": "code",
   "execution_count": null,
   "id": "7969f9e8",
   "metadata": {},
   "outputs": [],
   "source": [
    "mol_1.symbols = [\"O\", \"H\"]\n",
    "mol_1.coordinates = [[0, 0, 0], [0, 1, 0]]\n",
    "print(mol_1)"
   ]
  },
  {
   "cell_type": "code",
   "execution_count": null,
   "id": "14041686",
   "metadata": {},
   "outputs": [],
   "source": []
  },
  {
   "cell_type": "markdown",
   "id": "47d458ac",
   "metadata": {},
   "source": [
    "## 1.3. Inheritance\n",
    "\n",
    "Inheritance is the principle of extending a class to add capabilities without modifying the original class. We call the class that is being inherited **the parent**, and the class that is inheriting **the child**. The child class obtains the properties and behaviors of its parent unless it overrides them.\n",
    "\n",
    "This means a class that inherits from a parent class will contain all of the arguments and methods of the parent class by default. **The child class can either utilize the methods as is or they can override the methods to modify their behavior without affecting the parent class** or any objects that have instantiated that class.\n",
    "\n",
    "Using inheritance in code development creates a hierarchy of objects, which often improves the readability of your code. It also saves time and effort by avoiding duplicate code production, i.e., inheriting from classes that have similar behavior and modifying them instead of writting a new class from scratch.\n",
    "\n",
    "Here's an example:"
   ]
  },
  {
   "cell_type": "code",
   "execution_count": null,
   "id": "4c0728f5",
   "metadata": {},
   "outputs": [],
   "source": [
    "class Person(object):\n",
    "    def __init__(self, first_name, last_name):\n",
    "        self.first_name = first_name\n",
    "        self.last_name = last_name\n",
    "\n",
    "    def print_name(self):\n",
    "        print(self.first_name, self.last_name)\n",
    "\n",
    "\n",
    "class Student(Person):\n",
    "    def __init__(self, first_name, last_name, year):  # note the added argument\n",
    "        super().__init__(first_name, last_name)  # we only pass the allowed args to Person\n",
    "        self.graduation_year = year  # new attribute (note the different names are allowed)\n",
    "\n",
    "\n",
    "student_1 = Student(first_name='Sam', last_name='Sung', year='2023')\n",
    "student_1.print_name()  # note how we use the parent's method for the cild w/o redifining it\n",
    "print(student_1.graduation_year)"
   ]
  },
  {
   "cell_type": "markdown",
   "id": "f3432df2",
   "metadata": {},
   "source": [
    "## 1.4. Polymorphism\n",
    "\n",
    "The word polymorphism means \"having many forms\".\n",
    "\n",
    "In programming, polymorphism means that a single function can be used on different types.\n",
    "\n",
    "A non-OOP example:"
   ]
  },
  {
   "cell_type": "code",
   "execution_count": null,
   "id": "4003389e",
   "metadata": {},
   "outputs": [],
   "source": [
    "# len() being used for a string\n",
    "print(len(\"smiles :)\"))\n",
    " \n",
    "# len() being used for a list\n",
    "print(len([10, 20, 30]))"
   ]
  },
  {
   "cell_type": "markdown",
   "id": "e6683692",
   "metadata": {},
   "source": [
    "An OOP example is the main `ARC` object: Its Constructor (`__init__()`) accepts different object types\n",
    "for `reactions` and for `species`.\n",
    "\n",
    "Note also how arguments like `conformer_level` caccept both a `Level` type object\n",
    "as well as `str` or `dict`:"
   ]
  },
  {
   "cell_type": "code",
   "execution_count": null,
   "id": "b8ba1e9c",
   "metadata": {},
   "outputs": [],
   "source": [
    "class ARC(object):\n",
    "    \"\"\"\n",
    "    The main ARC class.\n",
    "\n",
    "    Args:\n",
    "        ...\n",
    "\n",
    "    Attributes:\n",
    "        ...\n",
    "    \"\"\"\n",
    "    def __init__(self,\n",
    "                 adaptive_levels: Optional[dict] = None,\n",
    "                 allow_nonisomorphic_2d: bool = False,\n",
    "                 arkane_level_of_theory: Optional[Union[dict, Level, str]] = None,\n",
    "                 bac_type: str = 'p',\n",
    "                 bath_gas: Optional[str] = None,\n",
    "                 calc_freq_factor: bool = True,\n",
    "                 compare_to_rmg: bool = True,\n",
    "                 composite_method: Optional[Union[str, dict, Level]] = None,\n",
    "                 compute_rates: bool = True,\n",
    "                 compute_thermo: bool = True,\n",
    "                 compute_transport: bool = False,\n",
    "                 conformer_level: Optional[Union[str, dict, Level]] = None,\n",
    "                 dont_gen_confs: List[str] = None,\n",
    "                 e_confs: float = 5.0,\n",
    "                 ess_settings: Dict[str, Union[str, List[str]]] = None,\n",
    "                 freq_level: Optional[Union[str, dict, Level]] = None,\n",
    "                 freq_scale_factor: Optional[float] = None,\n",
    "                 irc_level: Optional[Union[str, dict, Level]] = None,\n",
    "                 keep_checks: bool = False,\n",
    "                 kinetics_adapter: str = 'Arkane',\n",
    "                 job_memory: Optional[int] = None,\n",
    "                 job_types: Optional[Dict[str, bool]] = None,\n",
    "                 level_of_theory: str = '',\n",
    "                 max_job_time: Optional[float] = None,\n",
    "                 n_confs: int = 10,\n",
    "                 opt_level: Optional[Union[str, dict, Level]] = None,\n",
    "                 orbitals_level: Optional[Union[str, dict, Level]] = None,\n",
    "                 output: Optional[dict] = None,\n",
    "                 project: Optional[str] = None,\n",
    "                 project_directory: Optional[str] = None,\n",
    "                 reactions: Optional[List[Union[ARCReaction, Reaction]]] = None,\n",
    "                 running_jobs: Optional[dict] = None,\n",
    "                 scan_level: Optional[Union[str, dict, Level]] = None,\n",
    "                 sp_level: Optional[Union[str, dict, Level]] = None,\n",
    "                 species: Optional[List[Union[ARCSpecies, Species]]] = None,\n",
    "                 specific_job_type: str = '',\n",
    "                 T_min: Optional[Tuple[float, str]] = None,\n",
    "                 T_max: Optional[Tuple[float, str]] = None,\n",
    "                 T_count: int = 50,\n",
    "                 thermo_adapter: str = 'Arkane',\n",
    "                 three_params: bool = True,\n",
    "                 trsh_ess_jobs: bool = True,\n",
    "                 ts_guess_level: Optional[Union[str, dict, Level]] = None,\n",
    "                 # verbose=logging.INFO,\n",
    "                 ):\n",
    "\n",
    "        if project is None:\n",
    "            raise ValueError('A project name must be provided for a new project')\n",
    "        self.project = project\n",
    "        self.check_project_name()\n",
    "        # ..."
   ]
  },
  {
   "cell_type": "code",
   "execution_count": null,
   "id": "3ba4d021",
   "metadata": {},
   "outputs": [],
   "source": []
  }
 ],
 "metadata": {
  "kernelspec": {
   "display_name": "Python 3 (ipykernel)",
   "language": "python",
   "name": "python3"
  },
  "language_info": {
   "codemirror_mode": {
    "name": "ipython",
    "version": 3
   },
   "file_extension": ".py",
   "mimetype": "text/x-python",
   "name": "python",
   "nbconvert_exporter": "python",
   "pygments_lexer": "ipython3",
   "version": "3.10.9"
  }
 },
 "nbformat": 4,
 "nbformat_minor": 5
}
