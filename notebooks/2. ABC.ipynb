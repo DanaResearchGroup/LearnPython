{
 "cells": [
  {
   "cell_type": "markdown",
   "id": "84ef50f5",
   "metadata": {},
   "source": [
    "# 2. Abstract Classes\n",
    "\n",
    "An abstract class is a way to **define how a class will be designed while allowing some or all of its methods to remain unimplemented.**\n",
    "\n",
    "**An abstract class can be inherited by a class, which implements at least all of the abstract methods from the abstract class.**\n",
    "\n",
    "**An abstract class creates a structure for code to look for without defining how the methods are implemented.** Any methods implemented within an abstract class can be used by their children or overridden to achieve a new behavior.\n",
    "\n",
    "In python, we construct abstract classes using a package from the standard library called `abc`. We first need to import the abstract base class and abstract method decorator."
   ]
  },
  {
   "cell_type": "code",
   "execution_count": null,
   "id": "17c2f058",
   "metadata": {},
   "outputs": [],
   "source": [
    "from abc import ABC, abstractmethod"
   ]
  },
  {
   "cell_type": "markdown",
   "id": "5c3f1d1c",
   "metadata": {},
   "source": [
    "Let's define an abstract class by inheriting from the abstract base class, `ABC`:"
   ]
  },
  {
   "cell_type": "code",
   "execution_count": null,
   "id": "9a72d75f",
   "metadata": {},
   "outputs": [],
   "source": [
    "class ExampleAbstractClass(ABC):\n",
    "    \"\"\"\n",
    "    An abstract class.\n",
    "    Note that no __init__() Constructor is used here, we'll have that in the child implementation.\n",
    "    \"\"\"\n",
    "    \n",
    "    @abstractmethod\n",
    "    def first_method(self):\n",
    "        pass\n",
    "\n",
    "    @abstractmethod\n",
    "    def second_method(self):\n",
    "        pass\n",
    "        \n",
    "    def third_method(self):  # not an abstract method!\n",
    "        print('This method is implemented as is by any child classes (unless overridden).')"
   ]
  },
  {
   "cell_type": "markdown",
   "id": "d66c7790",
   "metadata": {},
   "source": [
    "Since there are unimplemented methods, we canot create an instance of this object.\n",
    "If we try, will get an error:"
   ]
  },
  {
   "cell_type": "code",
   "execution_count": null,
   "id": "a92d4f1d",
   "metadata": {},
   "outputs": [],
   "source": [
    "example_abstract_class_instance = ExampleAbstractClass()"
   ]
  },
  {
   "cell_type": "markdown",
   "id": "66ac3250",
   "metadata": {},
   "source": [
    "A child class that inherits our abstract class will need to override first_method and second_method if it is not itself an abstract class:"
   ]
  },
  {
   "cell_type": "code",
   "execution_count": null,
   "id": "e4a042fb",
   "metadata": {},
   "outputs": [],
   "source": [
    "class ExampleChildClass(ExampleAbstractClass):\n",
    "    def first_method(self):\n",
    "        print('Implementing the first method inherited from my parent.')\n",
    "    \n",
    "    def second_method(self):\n",
    "        print('Implementing the second method inherited from my parent.')"
   ]
  },
  {
   "cell_type": "markdown",
   "id": "f43343bd",
   "metadata": {},
   "source": [
    "**Note that we did not implement** the `third_method()` in the child class. Since `third_method()` is not an abstract method, we can utilize the implementation provided by our parent.\n",
    "\n",
    "Lets try this:"
   ]
  },
  {
   "cell_type": "code",
   "execution_count": null,
   "id": "da56e3a7",
   "metadata": {},
   "outputs": [],
   "source": [
    "example_child_class = ExampleChildClass()"
   ]
  },
  {
   "cell_type": "code",
   "execution_count": null,
   "id": "d8c3771c",
   "metadata": {},
   "outputs": [],
   "source": [
    "example_child_class.first_method()"
   ]
  },
  {
   "cell_type": "code",
   "execution_count": null,
   "id": "533e137e",
   "metadata": {},
   "outputs": [],
   "source": [
    "example_child_class.second_method()"
   ]
  },
  {
   "cell_type": "code",
   "execution_count": null,
   "id": "2542d241",
   "metadata": {},
   "outputs": [],
   "source": [
    "example_child_class.third_method()"
   ]
  },
  {
   "cell_type": "markdown",
   "id": "29e4cca4",
   "metadata": {},
   "source": [
    "If we wish to override the method provided by the abstract class, we can simply re-write it:"
   ]
  },
  {
   "cell_type": "code",
   "execution_count": null,
   "id": "4d04f8e9",
   "metadata": {},
   "outputs": [],
   "source": [
    "class ExampleChildClass(ExampleAbstractClass):\n",
    "    def first_method(self):\n",
    "        print('Implementing the first method inherited from my parent.')\n",
    "    \n",
    "    def second_method(self):\n",
    "        print('Implementing the second method inherited from my parent.')\n",
    "        \n",
    "    def third_method(self):\n",
    "        print('Overriding the third method provided by my parent.')"
   ]
  },
  {
   "cell_type": "code",
   "execution_count": null,
   "id": "2d856f34",
   "metadata": {},
   "outputs": [],
   "source": [
    "example_child_class = ExampleChildClass()"
   ]
  },
  {
   "cell_type": "code",
   "execution_count": null,
   "id": "fd91d10a",
   "metadata": {},
   "outputs": [],
   "source": [
    "example_child_class.first_method()"
   ]
  },
  {
   "cell_type": "code",
   "execution_count": null,
   "id": "ae2c7247",
   "metadata": {},
   "outputs": [],
   "source": [
    "example_child_class.second_method()"
   ]
  },
  {
   "cell_type": "code",
   "execution_count": null,
   "id": "0d7999d7",
   "metadata": {},
   "outputs": [],
   "source": [
    "example_child_class.third_method()"
   ]
  },
  {
   "cell_type": "markdown",
   "id": "a69764db",
   "metadata": {},
   "source": [
    "See three examples for ABC implementations:\n",
    "\n",
    "    https://github.com/ReactionMechanismGenerator/RMG-Py/blob/main/arkane/ess/adapter.py#L43\n",
    "    \n",
    "    https://github.com/ReactionMechanismGenerator/ARC/blob/main/arc/job/adapter.py#L238\n",
    "    \n",
    "    https://github.com/ReactionMechanismGenerator/ARC/blob/main/arc/statmech/adapter.py#L8"
   ]
  },
  {
   "cell_type": "code",
   "execution_count": null,
   "id": "bd043fd0",
   "metadata": {},
   "outputs": [],
   "source": []
  },
  {
   "cell_type": "code",
   "execution_count": null,
   "id": "76baa355",
   "metadata": {},
   "outputs": [],
   "source": []
  },
  {
   "cell_type": "code",
   "execution_count": null,
   "id": "9ef080f1",
   "metadata": {},
   "outputs": [],
   "source": []
  },
  {
   "cell_type": "code",
   "execution_count": null,
   "id": "fcaab667",
   "metadata": {},
   "outputs": [],
   "source": []
  }
 ],
 "metadata": {
  "kernelspec": {
   "display_name": "Python 3 (ipykernel)",
   "language": "python",
   "name": "python3"
  },
  "language_info": {
   "codemirror_mode": {
    "name": "ipython",
    "version": 3
   },
   "file_extension": ".py",
   "mimetype": "text/x-python",
   "name": "python",
   "nbconvert_exporter": "python",
   "pygments_lexer": "ipython3",
   "version": "3.10.9"
  }
 },
 "nbformat": 4,
 "nbformat_minor": 5
}
