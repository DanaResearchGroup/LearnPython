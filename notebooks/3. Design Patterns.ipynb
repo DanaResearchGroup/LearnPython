{
 "cells": [
  {
   "cell_type": "markdown",
   "id": "8ece09e9",
   "metadata": {},
   "source": [
    "## Important notes:\n",
    "\n",
    "To run the following code you'll need to activate the `abs_env` environment detailed in the `environment.yml` file in this repo.\n",
    "\n",
    "Note: Not all cells here are intended to run within the notebook. You'll need to create new files as instructed, don't forget to also create an `__init__.py` file for properly importing the modules."
   ]
  },
  {
   "cell_type": "markdown",
   "id": "284bf852",
   "metadata": {},
   "source": [
    "# 3. Design Patterns\n",
    "\n",
    "Design patterns are solutions to commonly found problems in software design. They are tested paradigms for how to solve a recurring problem. Patterns allow to speed up software development and provide a uniform communication mechanism among developers.\n",
    "\n",
    "There are various types of patterns:\n",
    "\n",
    "    Creational: They deal with object or class creation.\n",
    "                They help make a system independent of how its objects are created, composed and represented.\n",
    "\n",
    "    Structural: They are about class or object composition.\n",
    "                They define ways to compose objects to form larger structures and obtain new functionality.\n",
    "\n",
    "    Behavioral: They are concerned with the assignment of responsibilities between objects\n",
    "                and the communicaton between objects or classes.\n"
   ]
  },
  {
   "cell_type": "markdown",
   "id": "05b48674",
   "metadata": {},
   "source": [
    "## 3.1. The Adapter Design Pattern\n",
    "\n",
    "The Adapter design pattern is a method of constructing a wrapper around a pre-existing interface to allow its use by another class. We can construct an individual adapter for a specific class, or create an abstract interface to base our adapter on. An abstract interface will allow us to swap out our adapter for any class that inherits from the interface.\n",
    "\n",
    "An adapter is most useful in two different scenarios. The first is when you would like to re-use pre-existing code that has been rigorously tested without modifying it and thus invalidating the tests. The second is when you would like to create code that cares more about getting correct results for a set of inputs than how those results are generated. You may want to create a set of python libraries that can generate the results, but you do not want to re-write your main class to suit each new library."
   ]
  },
  {
   "cell_type": "markdown",
   "id": "10f776e6",
   "metadata": {},
   "source": [
    "As an example, consider the situation where we would like to read a Molecular Dynamics (MD) trajectory (i.e., concequtive xyz's) from a PDB file and perform some analysis on it. We currently have an MD library in mind to use, but we may want to use one or more different libraries in the future. If we do not want to re-write our code for each individual library, we need to come up with a different solution, in this case it will be to create an adapter.\n",
    "\n",
    "We will use two MD libraries, [MDAnalysis](https://www.mdanalysis.org/) and [MDTraj](http://mdtraj.org/1.9.0/) in this example. Our goal is to create a code that uses `MDTraj` or `MDAnalysis` to perform some simple analysis on a trajectory file. To keep the runtime short, we will only use the center of mass and the [radius of gyration](https://en.wikipedia.org/wiki/Radius_of_gyration) from each code, but the concepts shown will apply to more in depth computations. A sample trajectory file to use is provided in PDB form. We will also be using `NumPy` to structure some of our data."
   ]
  },
  {
   "cell_type": "markdown",
   "id": "ced724ec",
   "metadata": {},
   "source": [
    "Let's first work with these libraries before turning them into adapters.\n",
    "\n",
    "We'll start with `mdtraj`:"
   ]
  },
  {
   "cell_type": "code",
   "execution_count": null,
   "id": "27475d6a",
   "metadata": {},
   "outputs": [],
   "source": [
    "import mdtraj as mdt\n",
    "\n",
    "trajectory = mdt.load_pdb('protein.pdb')\n",
    "\n",
    "center_of_mass = mdt.compute_center_of_mass(trajectory)\n",
    "gyradius = mdt.compute_rg(trajectory)\n",
    "\n",
    "print(f'Center of mass:\\n{center_of_mass}')\n",
    "print(f'Radius of Gyration:\\n{gyradius}')\n"
   ]
  },
  {
   "cell_type": "markdown",
   "id": "5e362f04",
   "metadata": {},
   "source": [
    "Let's assume that we now want to do the same using a different library, maybe because it ha a better reputation, or that we no longer have a license for the first one, or maybe the second has additional important features.\n",
    "\n",
    "Let us quickly change the code to use `MDAnalysis` to load the PDB file and perform our two computations:"
   ]
  },
  {
   "cell_type": "code",
   "execution_count": null,
   "id": "4172fd49",
   "metadata": {},
   "outputs": [],
   "source": [
    "import MDAnalysis as mda\n",
    "import numpy as np\n",
    "\n",
    "trajectory = mda.Universe('protein.pdb')\n",
    "\n",
    "mass_by_frame = np.ndarray(shape=(len(trajectory.trajectory), 3))\n",
    "for ts in trajectory.trajectory:\n",
    "    mass_by_frame[ts.frame] = trajectory.atoms.center_of_mass(compound='segments')\n",
    "\n",
    "rg_by_frame = np.empty(len(trajectory.trajectory))\n",
    "for ts in trajectory.trajectory:\n",
    "    rg_by_frame[ts.frame] = trajectory.atoms.radius_of_gyration()\n",
    "\n",
    "print(f'Center of mass:\\n{mass_by_frame}')\n",
    "print(f'Radius of Gyration:\\n{rg_by_frame}')\n"
   ]
  },
  {
   "cell_type": "markdown",
   "id": "d2d4bcfd",
   "metadata": {},
   "source": [
    "Note that the implementation detailes (computing `center_of_mass` and `gyradius`) have changed.\n",
    "\n",
    "the two libraries handle the operations very differently. The function definitions are completely distinct from one another.\n",
    "\n",
    "We can see that not only are the function definitions different, both the output structure and the units are different too... `MDTraj` is outputting in nanometers and `MDAnalysis` is using Ångströms (we'll fix that later). Also, `MDTraj` outputs all frames, while we had to manually ask `MDAnalysis` to run the calculation for each frame seperately in a loof, then append the result."
   ]
  },
  {
   "cell_type": "markdown",
   "id": "87c4a7ef",
   "metadata": {},
   "source": [
    "## 3.2. Trajectory Adapter\n",
    "\n",
    "We want to code towards an interface, not a specific class, so we want to create an interface to base our adapters on.\n",
    "We will use Python's abc module to help build the interface, so we will need to import it and build our interface.\n",
    "\n",
    "Let's write the following implementation in a new file called `adapter.py` to hold our adapter."
   ]
  },
  {
   "cell_type": "code",
   "execution_count": null,
   "id": "a3025ce5",
   "metadata": {},
   "outputs": [],
   "source": [
    "from abc import abstractmethod, ABC\n",
    "\n",
    "class TrajectoryAdapter(ABC):\n",
    "\n",
    "    @abstractmethod\n",
    "    def compute_center_of_mass():\n",
    "        pass\n",
    "\n",
    "    @abstractmethod\n",
    "    def compute_radius_of_gyration():\n",
    "        pass"
   ]
  },
  {
   "cell_type": "markdown",
   "id": "a6175abe",
   "metadata": {},
   "source": [
    "Inheriting from ABC and decorating the methods with `@abstractmethod` ensures that any subclass of TrajectoryAdapter must override both methods. Any code developed using the listed abstract methods from the interface will now work with any adapter we construct that inherits from `TrajectoryAdapter`."
   ]
  },
  {
   "cell_type": "markdown",
   "id": "ecaacb3d",
   "metadata": {},
   "source": [
    "### 3.2.1. MDTraj Adapter\n",
    "\n",
    "We will start by building an Adapter that utilizes MDTraj. Let's create a new file called `mdtra_adapter.py`."
   ]
  },
  {
   "cell_type": "code",
   "execution_count": null,
   "id": "3dc1a831",
   "metadata": {},
   "outputs": [],
   "source": [
    "from adapter import TrajectoryAdapter\n",
    "import mdtraj as mdt\n",
    "\n",
    "class MDTrajAdapter(TrajectoryAdapter):\n",
    "    def __init__(self, filename):\n",
    "        self.trajectory = md.load_pdb(filename)\n",
    "        print('Selected MDTraj.')\n",
    "\n",
    "    def compute_center_of_mass(self):\n",
    "        return 10 * md.compute_center_of_mass(self.trajectory)\n",
    "\n",
    "    def compute_radius_of_gyration(self):\n",
    "        return 10 * md.compute_rg(self.trajectory)"
   ]
  },
  {
   "cell_type": "markdown",
   "id": "1ef4f18d",
   "metadata": {},
   "source": [
    "### 3.2.2. MDAnalysis Adapter\n",
    "\n",
    "Now we would like to change our code to use the MDAnalysis library, ideally with minimal impact on our script, which is simulating a larger code. Let us construct another Adapter for MDAnalysis. Create a new file called `mdanalysis_adapter.py` with the following content:"
   ]
  },
  {
   "cell_type": "code",
   "execution_count": null,
   "id": "4eb3d624",
   "metadata": {},
   "outputs": [],
   "source": [
    "from adapter import TrajectoryAdapter\n",
    "import MDAnalysis as mda\n",
    "import numpy as np\n",
    "\n",
    "class MDAnalysisAdapter(TrajectoryAdapter):\n",
    "    def __init__(self, filename):\n",
    "        self.trajectory = MDAnalysis.Universe(filename)\n",
    "        print('Selected MDAnalysis.')\n",
    "\n",
    "    def compute_center_of_mass(self):\n",
    "        mass_by_frame = np.ndarray(shape=(len(self.trajectory.trajectory), 3))\n",
    "        for ts in self.trajectory.trajectory:\n",
    "            mass_by_frame[ts.frame] = self.trajectory.atoms.center_of_mass(compound='segments')\n",
    "        return mass_by_frame\n",
    "\n",
    "    def compute_radius_of_gyration(self):\n",
    "        rg_by_frame = np.empty(len(self.trajectory.trajectory))\n",
    "        for ts in self.trajectory.trajectory:\n",
    "            rg_by_frame[ts.frame] = self.trajectory.atoms.radius_of_gyration()\n",
    "        return rg_by_frame"
   ]
  },
  {
   "cell_type": "markdown",
   "id": "5265b8ef",
   "metadata": {},
   "source": [
    "It is the programmer's responsibility to make sure all overidden methods return the same type of variables (having the same units)"
   ]
  },
  {
   "cell_type": "markdown",
   "id": "1e266da3",
   "metadata": {},
   "source": [
    "### 3.2.3. Run the adapters\n",
    "\n",
    "Run the following pieces of code (make sure to import correctly, i.e., by placing all python files in the same folder):"
   ]
  },
  {
   "cell_type": "code",
   "execution_count": null,
   "id": "9900f3e4",
   "metadata": {},
   "outputs": [],
   "source": [
    "from mdtraj_adapter import MDTrajAdapter\n",
    "\n",
    "mda = MDTrajAdapter('protein.pdb')\n",
    "print(f'Center of mass:\\n{mda.compute_center_of_mass()}')\n",
    "print(f'Radius of Gyration:\\n{mda.compute_radius_of_gyration()}')"
   ]
  },
  {
   "cell_type": "code",
   "execution_count": null,
   "id": "3c5a2035",
   "metadata": {},
   "outputs": [],
   "source": [
    "from mdanalysys_adapter import MDAnalysisAdapter\n",
    "\n",
    "mda = MDAnalysisAdapter('protein.pdb')\n",
    "print(f'Center of mass:\\n{mda.compute_center_of_mass()}')\n",
    "print(f'Radius of Gyration:\\n{mda.compute_radius_of_gyration()}')"
   ]
  },
  {
   "cell_type": "markdown",
   "id": "5e5895e1",
   "metadata": {},
   "source": [
    "Note how elegant the above code is. We have abtracted out all implementation details, we just need to call the coirrect adapter, and now the input, the called methods, and the output structure are all identical!\n",
    "\n",
    "With adapters for each library, our code is not concerned with how the data it needs is generated, simply that it follows the contract put in place by the interface."
   ]
  },
  {
   "cell_type": "markdown",
   "id": "6dc01666",
   "metadata": {},
   "source": [
    "## 3.3. Factory Design Pattern\n",
    "\n",
    "While the above solution was indeed starting to look elegant, we still had to provide the specific adapter ourselves... We solve this by defining a Factory.\n",
    "\n",
    "The Factory design pattern is a method that uses a superclass to provide a common interface for the creation of related objects. Subclasses decide which object type should be created and of hide the implementation details of such objects.\n",
    "\n",
    "### The problem:\n",
    "\n",
    "Consider the adapters we previously designed for the two different trajectory analysis tools: `MDAnalysis` and `MDTraj`. Currently we only have two different adapters built, but who knows how many may be constructed in the future. Modifying code to select just between a few toolkits already starts to get tedious if you have to change it a lot. It would be much easier to just take the name of the toolkit you want to use _as a parameter_ and not have to change any code. We want to create a single interface that remains constant that encapsulate the creation of the adapters and abstracts the specifics away.\n",
    "\n",
    "### The solution:\n",
    "\n",
    "The Factory design pattern suggests to replace direct object construction calls (i.e., instantiating the `MDAnalysisAdapter` or `MDTrajAdapter` classes) with calls to a special class called a factory. This class has a method which returns instances of each adapter and hides the specific instantiation of each. A factory works best when the different constructed classes work from a shared base class, this allows code to use any object produced by the factory in the same way, without even knowing the type of the object they posses.\n",
    "\n",
    "\n",
    "First we will want to create a new module for our factory, called `factory.py`. We need to first import our adapter abstract class so our factory knows which type of objects it is building."
   ]
  },
  {
   "cell_type": "code",
   "execution_count": null,
   "id": "c6fc596a",
   "metadata": {},
   "outputs": [],
   "source": [
    "from adapter import TrajectoryAdapter\n",
    "from mdanalysis_adapter import MDAnalysisAdapter\n",
    "from mdtraj_adapter import MDTrajAdapter\n",
    "\n",
    "\n",
    "_registered_trajectory_adapters = {}\n",
    "\n",
    "\n",
    "def register_trajectory_adapter(trajectory_adapter_label: str,\n",
    "                                trajectory_adapter_class: Type[TrajectoryAdapter],\n",
    "                               ) -> None:\n",
    "    \"\"\"\n",
    "    A register for trajectory adapters.\n",
    "\n",
    "    Args:\n",
    "        trajectory_adapter_label (str): A string representation for a trajectory adapter.\n",
    "        trajectory_adapter_class (TrajectoryAdapter): The trajectory adapter class (a child of TrajectoryAdapter).\n",
    "\n",
    "    Raises:\n",
    "        TypeError: If trajectory_adapter_class is not a subclass of TrajectoryAdapter.\n",
    "    \"\"\"\n",
    "    if not issubclass(trajectory_adapter_class, TrajectoryAdapter):\n",
    "        raise TypeError(f'Adapter class {_registered_trajectory_adapters} is not a subclass TrajectoryAdapter.')\n",
    "    _registered_trajectory_adapters[trajectory_adapter_label] = trajectory_adapter_class\n",
    "\n",
    "\n",
    "def trajectory_factory(trajectory_adapter: str,\n",
    "                       filename: str,\n",
    "                      ) -> TrajectoryAdapter:\n",
    "    \"\"\"\n",
    "    A factory generating a trajectory adapter corresponding to ``trajectory_adapter``.\n",
    "\n",
    "    Args:\n",
    "        trajectory_adapter (str): The string representation of the trajectory adapter.\n",
    "        filename (str): The trajectory file name to analyze (will be passed to the respective adapter).\n",
    "\n",
    "    Returns:\n",
    "        TrajectoryAdapter: The requested TrajectoryAdapter subclass, initialized with the respective arguments.\n",
    "    \"\"\"\n",
    "    if trajectory_adapter not in _registered_trajectory_adapters.keys():\n",
    "        raise ValueError(f'The trajectory_adapter argument of {trajectory_adapter} was not present in the keys for the '\n",
    "                         f'_registered_trajectory_adapters dictionary: {list(_registered_trajectory_adapters.keys())}'\n",
    "                         f'\\nPlease check that the trajectory adapter was registered properly.')\n",
    "\n",
    "    traj_adapter_class = _registered_trajectory_adapters[trajectory_adapter](filename=filename)\n",
    "    return traj_adapter_class"
   ]
  },
  {
   "cell_type": "markdown",
   "id": "a229da8b",
   "metadata": {},
   "source": [
    "Now all we need to do is make sure all our adapters are properly \"registered\" in the `_registered_trajectory_adapters` dictionary. We need to add an `__init__.py` file for this small repository, so all the files are loaded properly:"
   ]
  },
  {
   "cell_type": "code",
   "execution_count": null,
   "id": "2aeaaf12",
   "metadata": {},
   "outputs": [],
   "source": [
    "import adapter\n",
    "import factory\n",
    "import mdtra_adapter\n",
    "import mdanalysis_adapter"
   ]
  },
  {
   "cell_type": "markdown",
   "id": "60efcb2c",
   "metadata": {},
   "source": [
    "And now let's add the following line in each of the adapters (this is an example for `MDTrajAdapter`, generate a respective line for  `MDAnalysisAdapter`). Place these lines at the end of each adapter file. Since they are not inside a class or a function they will get immediately executed when our small program initializesL"
   ]
  },
  {
   "cell_type": "code",
   "execution_count": null,
   "id": "080ef60a",
   "metadata": {},
   "outputs": [],
   "source": [
    "# Add this line at the top:\n",
    "from factory import register_trajectory_adapter\n",
    "\n",
    "# Add this line at the bottom of the adapter file (modufy as needed):\n",
    "register_trajectory_adapter('mdtraj', MDTrajAdapter)"
   ]
  },
  {
   "cell_type": "markdown",
   "id": "63016c5f",
   "metadata": {},
   "source": [
    "We should be all set by now. Let's now elegantly call factory, pass it a string that represents our adapter, and see how it works:"
   ]
  },
  {
   "cell_type": "code",
   "execution_count": null,
   "id": "d787cff5",
   "metadata": {},
   "outputs": [],
   "source": [
    "from factory import trajectory_factory\n",
    "\n",
    "traj_adapter = trajectory_factory(trajectory_adapter='mdtraj', filename='protein.pdb')\n",
    "\n",
    "print(f'Center of mass:\\n{traj_adapter.compute_center_of_mass()}')\n",
    "print(f'Radius of Gyration:\\n{traj_adapter.compute_radius_of_gyration()}')"
   ]
  },
  {
   "cell_type": "code",
   "execution_count": null,
   "id": "b7f8fea1",
   "metadata": {},
   "outputs": [],
   "source": [
    "from factory import trajectory_factory\n",
    "\n",
    "traj_adapter = trajectory_factory(trajectory_adapter='mdanalysis', filename='protein.pdb')  # Replace \"mdanalysis\" with the name you gave to the second adapter, if different\n",
    "\n",
    "print(f'Center of mass:\\n{traj_adapter.compute_center_of_mass()}')\n",
    "print(f'Radius of Gyration:\\n{traj_adapter.compute_radius_of_gyration()}')"
   ]
  }
 ],
 "metadata": {
  "kernelspec": {
   "display_name": "Python 3 (ipykernel)",
   "language": "python",
   "name": "python3"
  },
  "language_info": {
   "codemirror_mode": {
    "name": "ipython",
    "version": 3
   },
   "file_extension": ".py",
   "mimetype": "text/x-python",
   "name": "python",
   "nbconvert_exporter": "python",
   "pygments_lexer": "ipython3",
   "version": "3.10.9"
  }
 },
 "nbformat": 4,
 "nbformat_minor": 5
}
